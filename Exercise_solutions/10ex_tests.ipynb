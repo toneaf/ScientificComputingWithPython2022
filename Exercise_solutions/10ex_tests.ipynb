{
 "cells": [
  {
   "cell_type": "markdown",
   "metadata": {},
   "source": [
    "# Exercise 10 - Tests\n",
    "\n",
    "### Tone Alsvik Finstad"
   ]
  },
  {
   "cell_type": "code",
   "execution_count": 67,
   "metadata": {},
   "outputs": [],
   "source": [
    "import numpy as np\n",
    "import matplotlib.pyplot as plt\n",
    "from scipy import stats\n",
    "from scipy.optimize import curve_fit\n",
    "import pandas as pd"
   ]
  },
  {
   "cell_type": "markdown",
   "metadata": {},
   "source": [
    "1\\. **Hurricanes per Year**\n",
    "\n",
    "The number of hurricanes in 2005 was 15. The historic average is 6.3. Is this number signficantly different?\n",
    "- Assume the number of hurricanes is random, i.e. follows the Poisson distribution.\n",
    "- Assume as statistically significant a probability that has a Z score of 3 or larger with respect a normal distribution.\n",
    "\n",
    "**Hint**: compute the probability that in a single year are observed 15 or more hurricances."
   ]
  },
  {
   "cell_type": "code",
   "execution_count": 7,
   "metadata": {},
   "outputs": [
    {
     "name": "stdout",
     "output_type": "stream",
     "text": [
      "Z-value: 3.4661629670697414\n"
     ]
    }
   ],
   "source": [
    "expectation=6.3\n",
    "sigma=np.sqrt(expectation)\n",
    "\n",
    "#Want to find the probability of 15 or more hurricanes are observed\n",
    "Z_val=(15-expectation)/sigma\n",
    "print(f\"Z-value: {Z_val}\")"
   ]
  },
  {
   "cell_type": "markdown",
   "metadata": {},
   "source": [
    "As this is bigger than 3, this means that the number of hurricaes in 2005 was significantly different than the historic average."
   ]
  },
  {
   "cell_type": "markdown",
   "metadata": {},
   "source": [
    "2\\. **Pairwise t-test**\n",
    "\n",
    "In an experiment, a group of 10 individuals agreed to participate in a study of blood pressure changes following exposure to halogen lighting. Resting systolic blood pressure was recorded for each individual. The participants were then exposed to 20 minutes in a room lit only by halogen lamps. A post-exposure systolic blood pressure reading was recorded for each individual. The results are presented in the following data set:\n",
    "\n",
    "```python\n",
    "pre = np.array([120, 132, 120, 110, 115, 128, 120, 112, 110, 100])\n",
    "post = np.array([140, 156, 145, 130, 117, 148, 137, 119, 127, 135])\n",
    "```\n",
    "\n",
    "Determine whether the change in blood pressures within our sample was statistically significant.\n",
    "\n",
    "**Hint:**\n",
    "in this case, the Student's $t$-test should be performed to compare the two datasets.\n",
    "Use the following test statistics:\n",
    "\n",
    "$$T = \\frac{\\bar{x}_1 - \\bar{x}_2}{\\sigma \\sqrt{\\frac{2}{n}}}$$\n",
    "\n",
    "and \n",
    "\n",
    "$$\\sigma = \\sqrt{\\frac{\\sigma_1^2 + \\sigma_2^2}{2}}$$"
   ]
  },
  {
   "cell_type": "code",
   "execution_count": 9,
   "metadata": {
    "scrolled": true
   },
   "outputs": [
    {
     "name": "stdout",
     "output_type": "stream",
     "text": [
      "T = -3.786997938137629\n",
      "p-value = 0.004302464132864604\n"
     ]
    }
   ],
   "source": [
    "pre = np.array([120, 132, 120, 110, 115, 128, 120, 112, 110, 100])\n",
    "post = np.array([140, 156, 145, 130, 117, 148, 137, 119, 127, 135])\n",
    "\n",
    "sigma_pre=np.sqrt(np.var(pre, ddof=1))\n",
    "sigma_post=np.sqrt(np.var(post, ddof=1))\n",
    "var=np.sqrt((sigma_pre**2+sigma_post**2)/2)\n",
    "T=(np.mean(pre)-np.mean(post))/(var*np.sqrt(2/len(pre)))\n",
    "print(f\"T = {T}\")\n",
    "pvalue = stats.t.cdf(T, len(pre) - 1) + (1. - stats.t.cdf(-T, len(pre) - 1))\n",
    "print(f\"p-value = {pvalue}\")"
   ]
  },
  {
   "cell_type": "markdown",
   "metadata": {},
   "source": [
    "The change in blood pressure within our sample is statistically significant, as the p-value is smaller than 0.05. "
   ]
  },
  {
   "cell_type": "markdown",
   "metadata": {},
   "source": [
    "3\\. **Curve fitting of temperature in Alaska** \n",
    "\n",
    "The temperature extremes in Alaska for each month, starting in January, are given by (in degrees Celcius):\n",
    "\n",
    "max:  `17,  19,  21,  28,  33,  38, 37,  37,  31,  23,  19,  18`\n",
    "\n",
    "min: `-62, -59, -56, -46, -32, -18, -9, -13, -25, -46, -52, -58`\n",
    "\n",
    "* Plot these temperatures.\n",
    "* Find a suitable a function that can describe min and max temperatures. \n",
    "* Fit this function to the data with `scipy.optimize.curve_fit()`.\n",
    "* Plot the result. Is the fit reasonable? If not, why?\n",
    "* Is the time offset for min and max temperatures the same within the fit accuracy?"
   ]
  },
  {
   "cell_type": "code",
   "execution_count": 10,
   "metadata": {},
   "outputs": [
    {
     "data": {
      "image/png": "[encoded data removed]",
      "text/plain": [
       "<Figure size 432x288 with 1 Axes>"
      ]
     },
     "metadata": {
      "needs_background": "light"
     },
     "output_type": "display_data"
    }
   ],
   "source": [
    "T_max=[17,  19,  21,  28,  33,  38, 37,  37,  31,  23,  19,  18]\n",
    "T_min=[-62, -59, -56, -46, -32, -18, -9, -13, -25, -46, -52, -58]\n",
    "plt.plot(T_max, label=\"T_max\")\n",
    "plt.plot(T_min, label=\"T_min\")\n",
    "plt.legend()\n",
    "plt.show()"
   ]
  },
  {
   "cell_type": "code",
   "execution_count": 30,
   "metadata": {},
   "outputs": [
    {
     "data": {
      "image/png": "[encoded data removed]",
      "text/plain": [
       "<Figure size 432x288 with 1 Axes>"
      ]
     },
     "metadata": {
      "needs_background": "light"
     },
     "output_type": "display_data"
    },
    {
     "name": "stdout",
     "output_type": "stream",
     "text": [
      "Amplitude: 10.581699529314136\n",
      "Period: 0.5922742387511362\n",
      "Offset: 4.464529537463421\n",
      "Constant: 27.949635362519558\n"
     ]
    }
   ],
   "source": [
    "# will try to fit with a sine-function\n",
    "\n",
    "def sinus(x, amplitude, period, offset, const):\n",
    "    return amplitude*np.sin(period*x + offset) + const\n",
    "\n",
    "x=np.arange(0,12,1)\n",
    "popt, pcov = curve_fit(sinus, x, T_max)\n",
    "plt.plot(x, T_max, \"r.\",label=\"T_max\")\n",
    "plt.plot(x, sinus(x, *popt),\"b-\", label=\"Fitted sine-function\")\n",
    "plt.legend()\n",
    "plt.show()\n",
    "print(f\"Amplitude: {popt[0]}\")\n",
    "print(f\"Period: {popt[1]}\")\n",
    "print(f\"Offset: {popt[2]}\")\n",
    "print(f\"Constant: {popt[3]}\")"
   ]
  },
  {
   "cell_type": "markdown",
   "metadata": {},
   "source": [
    "Doing the same for minimum values, using the parameters from the maximum temperatures as initial guess, as the curves have similar shapes."
   ]
  },
  {
   "cell_type": "code",
   "execution_count": 31,
   "metadata": {},
   "outputs": [
    {
     "data": {
      "image/png": "[encoded data removed]",
      "text/plain": [
       "<Figure size 432x288 with 1 Axes>"
      ]
     },
     "metadata": {
      "needs_background": "light"
     },
     "output_type": "display_data"
    },
    {
     "name": "stdout",
     "output_type": "stream",
     "text": [
      "Amplitude: 25.149619581024627\n",
      "Period: 0.6013210293333707\n",
      "Offset: 4.166083092948669\n",
      "Constant: -36.71256174840298\n"
     ]
    }
   ],
   "source": [
    "popt2, pcov2 = curve_fit(sinus, x, T_min, p0=[10.58169953,0.59227424,4.46452954,27.94963536])\n",
    "plt.plot(x, T_min, \"r.\",label=\"T_min\")\n",
    "plt.plot(x, sinus(x, *popt2),\"b-\", label=\"Fitted sine-function\")\n",
    "plt.legend()\n",
    "plt.show()\n",
    "print(f\"Amplitude: {popt2[0]}\")\n",
    "print(f\"Period: {popt2[1]}\")\n",
    "print(f\"Offset: {popt2[2]}\")\n",
    "print(f\"Constant: {popt2[3]}\")"
   ]
  },
  {
   "cell_type": "markdown",
   "metadata": {},
   "source": [
    "The fit seems reasonable for both the maximum and minimun temperatures. The offset is a little higher for the maximum-temperatures than minimum temperature, which means that the maximum temperatures has their maximum a little bit earlier in the year than the minimum, but they are very similar. "
   ]
  },
  {
   "cell_type": "markdown",
   "metadata": {},
   "source": [
    "4\\. **Fit the residues**\n",
    "\n",
    "Read the `data/residuals_261.pkl` file. If you haven't got it already, download it from here:\n",
    "\n",
    "```bash\n",
    "wget https://www.dropbox.com/s/3uqleyc3wyz52tr/residuals_261.pkl -P data/\n",
    "```\n",
    "\n",
    "The feature named `residual` contains the residuals (defined as $y_i - \\hat{y}_i$) of a linear regression as a function of the independent variable `distances`.\n",
    "\n",
    "- Considering only the \"residual\" feature, create an histogram with the appropriate binning and plot it.\n",
    "- Set the appropriate Poisson uncertainty for each bin (thus, for each bin, $\\sigma_i = \\sqrt{n_i}$, where $n_i$ is the number of entries in each bin)\n",
    "- By looking at the distribution of the residuals, define an appropriate function and fit it to the histogram of the residuals\n",
    "- Perform a goodness-of-fit test. Is the p-value of the fit satisfactory?"
   ]
  },
  {
   "cell_type": "code",
   "execution_count": 36,
   "metadata": {},
   "outputs": [],
   "source": [
    "import pickle\n",
    "filename = \"residuals_261new.pkl\"\n",
    "infile = open(filename, 'rb')\n",
    "new_dict = pickle.load(infile)\n",
    "infile.close()\n"
   ]
  },
  {
   "cell_type": "code",
   "execution_count": 37,
   "metadata": {},
   "outputs": [
    {
     "name": "stdout",
     "output_type": "stream",
     "text": [
      "11131\n"
     ]
    }
   ],
   "source": [
    "residuals=new_dict.item()[\"residuals\"]\n",
    "print(len(residuals))"
   ]
  },
  {
   "cell_type": "code",
   "execution_count": 42,
   "metadata": {},
   "outputs": [
    {
     "data": {
      "image/png": "[encoded data removed]",
      "text/plain": [
       "<Figure size 432x288 with 1 Axes>"
      ]
     },
     "metadata": {
      "needs_background": "light"
     },
     "output_type": "display_data"
    }
   ],
   "source": [
    "plt.figure()\n",
    "plt.hist(residuals, bins=70)\n",
    "plt.yscale(\"log\")\n",
    "plt.show()"
   ]
  },
  {
   "cell_type": "code",
   "execution_count": 65,
   "metadata": {},
   "outputs": [
    {
     "data": {
      "image/png": "[encoded data removed]",
      "text/plain": [
       "<Figure size 432x288 with 1 Axes>"
      ]
     },
     "metadata": {
      "needs_background": "light"
     },
     "output_type": "display_data"
    },
    {
     "name": "stdout",
     "output_type": "stream",
     "text": [
      "a: -0.2813663754210191\n",
      "b: 5.129021151121808\n",
      "c: -0.6160992352870673\n"
     ]
    },
    {
     "data": {
      "image/png": "[encoded data removed]",
      "text/plain": [
       "<Figure size 432x288 with 1 Axes>"
      ]
     },
     "metadata": {
      "needs_background": "light"
     },
     "output_type": "display_data"
    }
   ],
   "source": [
    "def exponential(x, a, b, c):\n",
    "    return (a*np.exp(b*x)+c)\n",
    "\n",
    "x=np.linspace(-150,0,len(residuals))\n",
    "exp=exponential(x,10000,0.9,1)\n",
    "plt.plot(x,exp)\n",
    "plt.show()\n",
    "\n",
    "popt, pcov = curve_fit(exponential, x, residuals, p0=[10000,0.9,1])\n",
    "print(f\"a: {popt[0]}\")\n",
    "print(f\"b: {popt[1]}\")\n",
    "print(f\"c: {popt[2]}\")\n",
    "plt.plot(x, exponential(x, *popt), \"g-\")\n",
    "plt.hist(residuals,70)\n",
    "plt.show()"
   ]
  },
  {
   "cell_type": "markdown",
   "metadata": {},
   "source": [
    "The curve-fit function does not find a good approxiamtion, I think the numbers for a, b and c that I set as initial guess p0=[10000,0.9,1] is a lot better than the ones found in the curve-fit function, but I am not sure why the function fails here. "
   ]
  },
  {
   "cell_type": "markdown",
   "metadata": {},
   "source": [
    "5\\. **Temperatures in Munich**\n",
    "\n",
    "Get the following data file:\n",
    "\n",
    "```bash\n",
    "https://www.dropbox.com/s/7gy9yjl00ymxb8h/munich_temperatures_average_with_bad_data.txt\n",
    "```\n",
    "\n",
    "which gives the temperature in Munich every day for several years.\n",
    "\n",
    "\n",
    "Fit the following function to the data:\n",
    "\n",
    "$$f(t) = a \\cos(2\\pi t + b)+c$$\n",
    "\n",
    "where $t$ is the time in years.\n",
    "\n",
    "- Make a plot of the data and the best-fit model in the range 2008 to 2012.\n",
    "\n",
    "   - What are the best-fit values of the parameters?\n",
    "\n",
    "   - What is the overall average temperature in Munich, and what are the typical daily average values predicted by the model for the coldest and hottest time of year?\n",
    "\n",
    "   - What is the meaning of the $b$ parameter, and what physical sense does it have?\n",
    "\n",
    "\n",
    "- Now fit the data with the function $g(x)$, which has 1 more parameter than $f(x)$.\n",
    "$$g(x) = a \\cos(2\\pi b t + c)+d$$\n",
    "   - What are the RSS for $f(x)$ and $g(x)$?\n",
    "   - Use the Fisher F-test to determine whether the additional parameter is motivated."
   ]
  },
  {
   "cell_type": "code",
   "execution_count": 73,
   "metadata": {},
   "outputs": [
    {
     "data": {
      "image/png": "[encoded data removed]",
      "text/plain": [
       "<Figure size 432x288 with 1 Axes>"
      ]
     },
     "metadata": {
      "needs_background": "light"
     },
     "output_type": "display_data"
    },
    {
     "name": "stdout",
     "output_type": "stream",
     "text": [
      "a: -10.093509486831035\n",
      "b: 18.591251837060273\n",
      "c: 9.261525275224558\n"
     ]
    }
   ],
   "source": [
    "df = pd.read_csv('munich_temperatures_average_with_bad_data.txt', sep = ' ' ,header = 0,names= ['y', 't'])\n",
    "df\n",
    "\n",
    "def f(t, a, b, c):\n",
    "    return (a*np.cos(2*np.pi*t + b) + c)\n",
    "all_yrs=np.array(df[\"y\"])\n",
    "all_tmp=np.array(df[\"t\"])\n",
    "yrs=all_yrs[all_yrs>2008]\n",
    "tmp=all_tmp[all_yrs>2008]\n",
    "\n",
    "popt_f, pcov_f = curve_fit(f, yrs, tmp)\n",
    "plt.scatter(yrs,tmp)\n",
    "plt.plot(yrs, f(yrs,*popt_f),\"b\")\n",
    "plt.show()\n",
    "print(f\"a: {popt_f[0]}\")\n",
    "print(f\"b: {popt_f[1]}\")\n",
    "print(f\"c: {popt_f[2]}\")"
   ]
  },
  {
   "cell_type": "markdown",
   "metadata": {},
   "source": [
    "The average daily temperature is c.\n",
    "The average minimum temperature is c+a.\n",
    "The average maximum temperature is c-a.\n",
    "\n",
    "b is the phase-shift. "
   ]
  },
  {
   "cell_type": "code",
   "execution_count": 76,
   "metadata": {},
   "outputs": [
    {
     "data": {
      "image/png": "[encoded data removed]",
      "text/plain": [
       "<Figure size 432x288 with 1 Axes>"
      ]
     },
     "metadata": {
      "needs_background": "light"
     },
     "output_type": "display_data"
    },
    {
     "name": "stdout",
     "output_type": "stream",
     "text": [
      "a: -10.097594027020904\n",
      "b: 0.9962944120590208\n",
      "c: 65.40611570172013\n",
      "d: 9.243246242214017\n"
     ]
    }
   ],
   "source": [
    "def g(t, a, b, c, d):\n",
    "    return (a*np.cos(2*np.pi*b*t + c) + d)\n",
    "\n",
    "popt_g, pcov_g = curve_fit(g, yrs, tmp)\n",
    "plt.scatter(yrs,tmp)\n",
    "plt.plot(yrs, g(yrs,*popt_g),\"b\")\n",
    "plt.show()\n",
    "print(f\"a: {popt_g[0]}\")\n",
    "print(f\"b: {popt_g[1]}\")\n",
    "print(f\"c: {popt_g[2]}\")\n",
    "print(f\"d: {popt_g[3]}\")"
   ]
  },
  {
   "cell_type": "code",
   "execution_count": 80,
   "metadata": {},
   "outputs": [
    {
     "name": "stdout",
     "output_type": "stream",
     "text": [
      "RSS of f(x): 42527.75965166897\n",
      "RSS of g(x): 42410.172541499865\n"
     ]
    }
   ],
   "source": [
    "res_f = tmp - f(yrs, *popt_f)\n",
    "ssr_f = np.sum(res_f**2)\n",
    "\n",
    "\n",
    "res_g = tmp - g(yrs, *popt_g)\n",
    "ssr_g = np.sum(res_g**2)\n",
    "\n",
    "print(f'RSS of f(x): {ssr_f}')\n",
    "print(f'RSS of g(x): {ssr_g}')"
   ]
  },
  {
   "cell_type": "code",
   "execution_count": 84,
   "metadata": {},
   "outputs": [
    {
     "name": "stdout",
     "output_type": "stream",
     "text": [
      "p-value: 0.933 , additional parameter necessary: NO\n"
     ]
    },
    {
     "data": {
      "text/plain": [
       "0.9330803806641199"
      ]
     },
     "execution_count": 84,
     "metadata": {},
     "output_type": "execute_result"
    }
   ],
   "source": [
    "# I use the Ftest from lecture\n",
    "def Ftest(ssr_1, ssr_2, ndof_1, ndof_2, nbins, verbose=False):\n",
    "    F = ((ssr_1 - ssr_2)/(ndof_2 - ndof_1)) / (ssr_2/(nbins - ndof_2))\n",
    "    pval = 1. - stats.f.cdf(F, ndof_2 - ndof_1, nbins - ndof_2)\n",
    "    if verbose: print(\"p-value: %.3f\" % pval, \", additional parameter necessary:\", \"YES\" if pval < alpha else \"NO\")\n",
    "    return pval\n",
    "alpha = 0.05\n",
    "n_1=3\n",
    "n_2=4\n",
    "N = n_1 + n_2\n",
    "\n",
    "Ftest(ssr_f, ssr_g, n_1, n_2, N, verbose = True)"
   ]
  }
 ],
 "metadata": {
  "kernelspec": {
   "display_name": "Python 3",
   "language": "python",
   "name": "python3"
  },
  "language_info": {
   "codemirror_mode": {
    "name": "ipython",
    "version": 3
   },
   "file_extension": ".py",
   "mimetype": "text/x-python",
   "name": "python",
   "nbconvert_exporter": "python",
   "pygments_lexer": "ipython3",
   "version": "3.7.4"
  }
 },
 "nbformat": 4,
 "nbformat_minor": 2
}
