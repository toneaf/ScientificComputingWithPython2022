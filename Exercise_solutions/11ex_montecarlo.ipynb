{
 "cells": [
  {
   "cell_type": "markdown",
   "metadata": {},
   "source": [
    "# Exercise 11 - Monte Carlo\n",
    "\n",
    "### Tone Alsvik Finstad"
   ]
  },
  {
   "cell_type": "code",
   "execution_count": 1,
   "metadata": {},
   "outputs": [],
   "source": [
    "import numpy as np\n",
    "import numpy as np\n",
    "import pandas as pd\n",
    "from scipy import stats\n",
    "import matplotlib.pyplot as plt\n",
    "import seaborn as sns\n",
    "import random\n"
   ]
  },
  {
   "cell_type": "markdown",
   "metadata": {},
   "source": [
    "1\\. **Radioactive decay chain**\n",
    "\n",
    "${\\rm Tl}^{208}$ decays to ${\\rm Pb}^{208}$ with a half-life $\\tau$ of 3.052 minutes. Suppose to start with a sample of 1000 Thallium atoms and 0 of Lead atoms.\n",
    "\n",
    "* Take steps in time of 1 second and at each time-step decide whether each Tl atom has decayed or not, accordingly to the probability $p(t)=1-2^{-t/\\tau}$. Subtract the total number of Tl atoms that decayed at each step from the Tl sample and add them to the Lead one. Plot the evolution of the two sets as a function of time  \n",
    "* Repeat the exercise by means of the inverse transform method: draw 1000 random numbers from the non-uniform probability distribution $p(t)=2^{-t/\\tau}\\frac{\\ln 2}{\\tau}$ to represent the times of decay of the 1000 Tl atoms. Make a plot showing the number of atoms that have not decayed as a function of time"
   ]
  },
  {
   "cell_type": "code",
   "execution_count": 2,
   "metadata": {},
   "outputs": [
    {
     "name": "stdout",
     "output_type": "stream",
     "text": [
      "[1000, 1000, 995, 992, 982, 969, 955, 933, 905, 882, 853, 820, 787, 743, 700, 664, 628, 589, 550, 522, 484, 446, 408, 379, 347, 323, 297, 274, 243, 219, 204, 188, 166, 156, 135, 116, 99, 86, 74, 65, 51, 43, 33, 27, 20, 20, 18, 12, 11, 9, 8, 4, 2, 1, 1, 1, 1, 0, 0, 0, 0, 0, 0, 0, 0, 0, 0, 0, 0, 0, 0, 0, 0, 0, 0, 0, 0, 0, 0, 0, 0, 0, 0, 0, 0, 0, 0, 0, 0, 0, 0, 0, 0, 0, 0, 0, 0, 0, 0, 0, 0, 0, 0, 0, 0, 0, 0, 0, 0, 0, 0, 0, 0, 0, 0, 0, 0, 0, 0, 0, 0, 0, 0, 0, 0, 0, 0, 0, 0, 0, 0, 0, 0, 0, 0, 0, 0, 0, 0, 0, 0, 0, 0, 0, 0, 0, 0, 0, 0, 0]\n",
      "[0, 0, 5, 8, 18, 31, 45, 67, 95, 118, 147, 180, 213, 257, 300, 336, 372, 411, 450, 478, 516, 554, 592, 621, 653, 677, 703, 726, 757, 781, 796, 812, 834, 844, 865, 884, 901, 914, 926, 935, 949, 957, 967, 973, 980, 980, 982, 988, 989, 991, 992, 996, 998, 999, 999, 999, 999, 1000, 1000, 1000, 1000, 1000, 1000, 1000, 1000, 1000, 1000, 1000, 1000, 1000, 1000, 1000, 1000, 1000, 1000, 1000, 1000, 1000, 1000, 1000, 1000, 1000, 1000, 1000, 1000, 1000, 1000, 1000, 1000, 1000, 1000, 1000, 1000, 1000, 1000, 1000, 1000, 1000, 1000, 1000, 1000, 1000, 1000, 1000, 1000, 1000, 1000, 1000, 1000, 1000, 1000, 1000, 1000, 1000, 1000, 1000, 1000, 1000, 1000, 1000, 1000, 1000, 1000, 1000, 1000, 1000, 1000, 1000, 1000, 1000, 1000, 1000, 1000, 1000, 1000, 1000, 1000, 1000, 1000, 1000, 1000, 1000, 1000, 1000, 1000, 1000, 1000, 1000, 1000, 1000]\n"
     ]
    },
    {
     "data": {
      "image/png": "[encoded data removed]",
      "text/plain": [
       "<Figure size 432x288 with 1 Axes>"
      ]
     },
     "metadata": {
      "needs_background": "light"
     },
     "output_type": "display_data"
    }
   ],
   "source": [
    "\n",
    "tau=3.052 * 60 #s\n",
    "time=np.arange(0,150,1)\n",
    "\n",
    "def p(t):\n",
    "    return (1-2**(-t/tau))\n",
    "\n",
    "\n",
    "def lcg(m=2**32, a=1103515245, c=12345):\n",
    "    # get seed\n",
    "    global x\n",
    "    x = (a*x + c) % m\n",
    "    return x/m\n",
    "\n",
    "Tl_atoms=[1000]\n",
    "Pb_atoms=[0]\n",
    "\n",
    "for i in range(len(time)-1):\n",
    "    atoms_decayed=0\n",
    "    x = random.randint(0,1000)\n",
    "    random_numbers=[lcg() for i in range(Tl_atoms[i])]\n",
    "    for num in random_numbers:\n",
    "        if num<p(time[i]):\n",
    "            atoms_decayed+=1\n",
    "    Tl_atoms.append(Tl_atoms[i]-atoms_decayed)\n",
    "    Pb_atoms.append(Pb_atoms[i]+atoms_decayed)\n",
    "print(Tl_atoms)\n",
    "print(Pb_atoms)\n",
    "\n",
    "plt.plot(time, Tl_atoms, label=\"Tl-atoms\")\n",
    "plt.plot(time, Pb_atoms, label=\"Pb_atoms\")\n",
    "plt.legend()\n",
    "plt.show()"
   ]
  },
  {
   "cell_type": "code",
   "execution_count": 3,
   "metadata": {},
   "outputs": [
    {
     "data": {
      "image/png": "[encoded data removed]",
      "text/plain": [
       "<Figure size 432x288 with 1 Axes>"
      ]
     },
     "metadata": {
      "needs_background": "light"
     },
     "output_type": "display_data"
    }
   ],
   "source": [
    "#Repeat the exercise by means of the inverse transform method: draw 1000 random numbers from the non-uniform probability \n",
    "#distribution  𝑝(𝑡)=2−𝑡/𝜏ln2𝜏  to represent the times of decay of the 1000 Tl atoms. \n",
    "#Make a plot showing the number of atoms that have not decayed as a function of time.\n",
    "def p2(t):\n",
    "    #return 2**((-t/tau)*(np.log(2)/2))\n",
    "    return - tau*np.log(1-y)/np.log(2)  #inverse probability function\n",
    "\n",
    "t=1500\n",
    "Tl_atoms=1000\n",
    "\n",
    "y = np.random.random(Tl_atoms)\n",
    "time_decay = p2(y)\n",
    "Tl_num = []\n",
    "for i in range(1,t):\n",
    "    decayed = len(time_decay[i>time_decay])\n",
    "    Tl_num.append(Tl_atoms - decayed)\n",
    "\n",
    "plt.plot(Tl_num)\n",
    "plt.show()"
   ]
  },
  {
   "cell_type": "markdown",
   "metadata": {},
   "source": [
    "2\\. **Monte Carlo integration: hit/miss vs mean value method**\n",
    "\n",
    "Consider the function: \n",
    "\n",
    "$$f(x) =\\sin^2{\\left( \\frac{1}{1-x} \\right)}$$\n",
    "\n",
    "* Plot the function and compute the integral of $f(x)$ between 0 and 2 with the hit/miss method. Evaluate the error of your estimate (hint: repeat the integral $N$ times, and from the distribution of the integrals take the mean value and the standard deviation, the latter rescaled by the appropriate factor)\n",
    "* Repeat the integral with the mean value method. Evaluate the error and compare it with the previous one."
   ]
  },
  {
   "cell_type": "code",
   "execution_count": 4,
   "metadata": {},
   "outputs": [],
   "source": [
    "def f(x):\n",
    "    return (np.sin(1/(1-x)))**2"
   ]
  },
  {
   "cell_type": "code",
   "execution_count": 5,
   "metadata": {},
   "outputs": [
    {
     "name": "stdout",
     "output_type": "stream",
     "text": [
      "Mean value = 1.3180000000000001e-05\n",
      "Standard deviation = 9.480907129594721e-06\n"
     ]
    }
   ],
   "source": [
    "#Hit/miss method\n",
    "N=1000\n",
    "I_list = np.zeros(N) \n",
    "for i in range(N):\n",
    "    n = 100000\n",
    "    count = 0\n",
    "    x = 2*np.random.random()\n",
    "    y = np.random.random() \n",
    "    if y < f(x): \n",
    "        count += 1\n",
    "    I_list[i] = 2*count/n\n",
    "\n",
    "print(f\"Mean value = { np.mean(I_list)}\")\n",
    "print(f\"Standard deviation = {np.std(I_list)}\")"
   ]
  },
  {
   "cell_type": "code",
   "execution_count": 6,
   "metadata": {},
   "outputs": [
    {
     "name": "stdout",
     "output_type": "stream",
     "text": [
      "Integral: 1.3362132796351511\n",
      "Standard deviation:  0.0006588724771703291\n"
     ]
    }
   ],
   "source": [
    "#mMean value method\n",
    "x = 2*np.random.random(N)\n",
    "I = (2/N)*np.sum(f(x))\n",
    "    \n",
    "std = 2*np.sqrt(np.var(f(x)/N))\n",
    "print('Integral:', I)\n",
    "print('Standard deviation: ', std)"
   ]
  },
  {
   "cell_type": "markdown",
   "metadata": {},
   "source": [
    "The standard deviation is a lot smaller for the hit/miss method, and for that reason this is the best method for this case. "
   ]
  },
  {
   "cell_type": "markdown",
   "metadata": {},
   "source": [
    "3\\. **Monte Carlo integration in high dimension**\n",
    "\n",
    "* Compute the area of a circle of unit radius, by integrating the function:\n",
    "\n",
    "$$\n",
    "f(x,y)=\n",
    "\\left\\{\n",
    "\\begin{array}{ll}\n",
    "      1 & x^2+y^2\\le 1 \\\\\n",
    "      0 & {\\rm elsewhere}\n",
    "\\end{array} \n",
    "\\right.\n",
    "$$\n",
    "\n",
    "* Generalize the result for a 10D sphere."
   ]
  },
  {
   "cell_type": "code",
   "execution_count": 7,
   "metadata": {},
   "outputs": [],
   "source": [
    "def f(x, y):\n",
    "    return np.sum((x**2+y**2<=1))"
   ]
  },
  {
   "cell_type": "code",
   "execution_count": 8,
   "metadata": {},
   "outputs": [
    {
     "name": "stdout",
     "output_type": "stream",
     "text": [
      "Area = 3.14217\n"
     ]
    }
   ],
   "source": [
    "#Circle of unit radius\n",
    "N = 19000000\n",
    "x = 2*np.random.random(N)-1\n",
    "y = 2*np.random.random(N)-1\n",
    "V = 2**2\n",
    "I = V/N * f(x, y)\n",
    "print(f\"Area = {I.round(5)}\")"
   ]
  },
  {
   "cell_type": "code",
   "execution_count": 9,
   "metadata": {},
   "outputs": [],
   "source": [
    "#10 dimensional sphere\n",
    "def f_10D(x):\n",
    "    return np.sum((np.sum(x**2, axis = 0) <=1))"
   ]
  },
  {
   "cell_type": "code",
   "execution_count": 10,
   "metadata": {},
   "outputs": [
    {
     "name": "stdout",
     "output_type": "stream",
     "text": [
      "Area = 2.5745515789473683\n"
     ]
    }
   ],
   "source": [
    "N = 1900000\n",
    "coords = 2*np.random.random((10,N))-1\n",
    "V_10D = 2**10\n",
    "I_10D = V_10D/N * f_10D(coords)\n",
    "print(f\"Area = {I_10D}\")"
   ]
  },
  {
   "cell_type": "markdown",
   "metadata": {},
   "source": [
    "4\\. **Monte Carlo integration with importance sampling** \n",
    "\n",
    "Calculate the value of the integral:\n",
    "\n",
    "$$\n",
    "I=\\int_0^1 \\frac{x^{-1/2}}{e^x+1} dx\n",
    "$$\n",
    "\n",
    "using the importance sampling method with $w(x)=1/\\sqrt{x}$. You should expect a result around 0.84."
   ]
  },
  {
   "cell_type": "code",
   "execution_count": 11,
   "metadata": {},
   "outputs": [
    {
     "name": "stdout",
     "output_type": "stream",
     "text": [
      "The value of the integral is: 0.8222570763381689\n"
     ]
    }
   ],
   "source": [
    "def w(x):\n",
    "    return 1/np.sqrt(x)\n",
    "\n",
    "def integrand(x):\n",
    "    return x**(-1/2) / (np.exp(x) + 1)\n",
    "\n",
    "N=100\n",
    "x = np.linspace(0.001,1,100)\n",
    "dx = x[1]-x[0]\n",
    "I = (1/N)*np.sum(integrand(x)/w(x))*np.sum(w(x))*dx\n",
    "print(f\"The value of the integral is: {I}\")"
   ]
  },
  {
   "cell_type": "code",
   "execution_count": 12,
   "metadata": {},
   "outputs": [
    {
     "data": {
      "image/png": "[encoded data removed]",
      "text/plain": [
       "<Figure size 432x288 with 1 Axes>"
      ]
     },
     "metadata": {
      "needs_background": "light"
     },
     "output_type": "display_data"
    }
   ],
   "source": [
    "integ_plot = integrand(x)\n",
    "w_plot = w(x)\n",
    "plt.plot(x, integ_plot, label=\"integrand\")\n",
    "plt.plot(x, w_plot, label=\"w(x)\")\n",
    "plt.legend()\n",
    "plt.show()"
   ]
  }
 ],
 "metadata": {
  "kernelspec": {
   "display_name": "Python 3",
   "language": "python",
   "name": "python3"
  },
  "language_info": {
   "codemirror_mode": {
    "name": "ipython",
    "version": 3
   },
   "file_extension": ".py",
   "mimetype": "text/x-python",
   "name": "python",
   "nbconvert_exporter": "python",
   "pygments_lexer": "ipython3",
   "version": "3.7.4"
  }
 },
 "nbformat": 4,
 "nbformat_minor": 2
}
